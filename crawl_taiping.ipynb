{
 "cells": [
  {
   "cell_type": "code",
   "execution_count": 1,
   "metadata": {},
   "outputs": [],
   "source": [
    "import json\n",
    "import re\n",
    "import requests\n",
    "import dask.dataframe as dd\n",
    "import pandas as pd\n",
    "import numpy as np\n",
    "from datetime import datetime"
   ]
  },
  {
   "cell_type": "markdown",
   "metadata": {},
   "source": [
    "#### Define square area to crawl"
   ]
  },
  {
   "cell_type": "code",
   "execution_count": 2,
   "metadata": {},
   "outputs": [],
   "source": [
    "east = 100.75769\n",
    "west = 100.72240\n",
    "south = 4.83614\n",
    "north = 4.86622\n",
    "\n",
    "resolution = 0.0002 # Optimize to preserve visibility of circle shapes but yet not generate too many points\n",
    "\n",
    "location_id = 'taiping_town'"
   ]
  },
  {
   "cell_type": "markdown",
   "metadata": {},
   "source": [
    "#### Calculate dependent variables"
   ]
  },
  {
   "cell_type": "code",
   "execution_count": 3,
   "metadata": {},
   "outputs": [
    {
     "name": "stdout",
     "output_type": "stream",
     "text": [
      "Resolution 0.0002 on map results in 26727 points\n",
      "Actual square (copy into HTML file):\n",
      "var west = 100.7224\n",
      "var east = 100.75760\n",
      "var south = 4.83614\n",
      "var north = 4.86614\n",
      "var center = [4.851140000000032, 100.74000000000058]\n"
     ]
    }
   ],
   "source": [
    "timestamp = datetime.today().strftime('%m%d')\n",
    "filename = 'mysejahtera_hotspot_data/{}/points-cases-{}.json'.format(location_id, timestamp)\n",
    "locationfile = 'locations-{}.json'.format(location_id)\n",
    "locationfilebak = 'mysejahtera_hotspot_data/{}/locations-{}.json'.format(location_id, timestamp)\n",
    "\n",
    "latitudes = np.arange(south, north, resolution)\n",
    "longitudes = np.arange(west, east, resolution)\n",
    "print(\"Resolution {} on map results in {} points\".format(resolution, len(latitudes)*len(longitudes)))\n",
    "\n",
    "# 2km distance given the resolution (simple since we're at the equator)\n",
    "circle_diameter = int(round(2/(110.574*resolution)))\n",
    "\n",
    "center_v = south+(north-south)/2\n",
    "center_h = west+(east-west)/2\n",
    "\n",
    "print(\"Actual square (copy into HTML file):\")\n",
    "print(\"var west =\", west)\n",
    "print(\"var east = {:.5f}\".format(longitudes[-1]))\n",
    "print(\"var south =\", south)\n",
    "print(\"var north = {:.5f}\".format(latitudes[-1]))\n",
    "\n",
    "print('var center = [{}, {}]'.format(south + (latitudes[-1]-south)/2, west + (longitudes[-1]-west)/2))"
   ]
  },
  {
   "cell_type": "markdown",
   "metadata": {},
   "source": [
    "## Crawl"
   ]
  },
  {
   "cell_type": "code",
   "execution_count": 5,
   "metadata": {},
   "outputs": [
    {
     "data": {
      "text/html": [
       "\n",
       "            <div>\n",
       "                <div style=\"\n",
       "                    width: 24px;\n",
       "                    height: 24px;\n",
       "                    background-color: #e1e1e1;\n",
       "                    border: 3px solid #9D9D9D;\n",
       "                    border-radius: 5px;\n",
       "                    position: absolute;\"> </div>\n",
       "                <div style=\"margin-left: 48px;\">\n",
       "                    <h3 style=\"margin-bottom: 0px;\">Client</h3>\n",
       "                    <p style=\"color: #9D9D9D; margin-bottom: 0px;\">Client-51ad0c66-d874-11eb-8f48-04d3b0881854</p>\n",
       "                    <table style=\"width: 100%; text-align: left;\">\n",
       "                    \n",
       "                <tr>\n",
       "                    <td style=\"text-align: left;\"><strong>Connection method:</strong> Cluster object</td>\n",
       "                    <td style=\"text-align: left;\"><strong>Cluster type:</strong> LocalCluster</td>\n",
       "                </tr>\n",
       "                \n",
       "                <tr>\n",
       "                    <td style=\"text-align: left;\">\n",
       "                        <strong>Dashboard: </strong>\n",
       "                        <a href=\"http://127.0.0.1:8787/status\">http://127.0.0.1:8787/status</a>\n",
       "                    </td>\n",
       "                    <td style=\"text-align: left;\"></td>\n",
       "                </tr>\n",
       "                \n",
       "                    </table>\n",
       "                    \n",
       "                <details>\n",
       "                <summary style=\"margin-bottom: 20px;\"><h3 style=\"display: inline;\">Cluster Info</h3></summary>\n",
       "                \n",
       "            <div class=\"jp-RenderedHTMLCommon jp-RenderedHTML jp-mod-trusted jp-OutputArea-output\">\n",
       "                <div style=\"\n",
       "                    width: 24px;\n",
       "                    height: 24px;\n",
       "                    background-color: #e1e1e1;\n",
       "                    border: 3px solid #9D9D9D;\n",
       "                    border-radius: 5px;\n",
       "                    position: absolute;\"> </div>\n",
       "                <div style=\"margin-left: 48px;\">\n",
       "                    <h3 style=\"margin-bottom: 0px; margin-top: 0px;\">LocalCluster</h3>\n",
       "                    <p style=\"color: #9D9D9D; margin-bottom: 0px;\">ab4750a9</p>\n",
       "                    <table style=\"width: 100%; text-align: left;\">\n",
       "                    \n",
       "            <tr>\n",
       "                <td style=\"text-align: left;\"><strong>Status:</strong> running</td>\n",
       "                <td style=\"text-align: left;\"><strong>Using processes:</strong> True</td>\n",
       "            </tr>\n",
       "        \n",
       "            <tr>\n",
       "                <td style=\"text-align: left;\">\n",
       "                    <strong>Dashboard:</strong> <a href=\"http://127.0.0.1:8787/status\">http://127.0.0.1:8787/status</a>\n",
       "                </td>\n",
       "                <td style=\"text-align: left;\"><strong>Workers:</strong> 4</td>\n",
       "            </tr>\n",
       "            <tr>\n",
       "                <td style=\"text-align: left;\">\n",
       "                    <strong>Total threads:</strong>\n",
       "                    8\n",
       "                </td>\n",
       "                <td style=\"text-align: left;\">\n",
       "                    <strong>Total memory:</strong>\n",
       "                    15.86 GiB\n",
       "                </td>\n",
       "            </tr>\n",
       "        \n",
       "                    </table>\n",
       "                    <details>\n",
       "                    <summary style=\"margin-bottom: 20px;\"><h3 style=\"display: inline;\">Scheduler Info</h3></summary>\n",
       "                    \n",
       "        <div style=\"\">\n",
       "            \n",
       "            <div>\n",
       "                <div style=\"\n",
       "                    width: 24px;\n",
       "                    height: 24px;\n",
       "                    background-color: #FFF7E5;\n",
       "                    border: 3px solid #FF6132;\n",
       "                    border-radius: 5px;\n",
       "                    position: absolute;\"> </div>\n",
       "                <div style=\"margin-left: 48px;\">\n",
       "                    <h3 style=\"margin-bottom: 0px;\">Scheduler</h3>\n",
       "                    <p style=\"color: #9D9D9D; margin-bottom: 0px;\">Scheduler-07c55079-daed-4055-9324-279cffd705bf</p>\n",
       "                    <table style=\"width: 100%; text-align: left;\">\n",
       "                        <tr>\n",
       "                            <td style=\"text-align: left;\"><strong>Comm:</strong> tcp://127.0.0.1:50545</td>\n",
       "                            <td style=\"text-align: left;\"><strong>Workers:</strong> 4</td>\n",
       "                        </tr>\n",
       "                        <tr>\n",
       "                            <td style=\"text-align: left;\">\n",
       "                                <strong>Dashboard:</strong> <a href=\"http://127.0.0.1:8787/status\">http://127.0.0.1:8787/status</a>\n",
       "                            </td>\n",
       "                            <td style=\"text-align: left;\">\n",
       "                                <strong>Total threads:</strong>\n",
       "                                8\n",
       "                            </td>\n",
       "                        </tr>\n",
       "                        <tr>\n",
       "                            <td style=\"text-align: left;\">\n",
       "                                <strong>Started:</strong>\n",
       "                                Just now\n",
       "                            </td>\n",
       "                            <td style=\"text-align: left;\">\n",
       "                                <strong>Total memory:</strong>\n",
       "                                15.86 GiB\n",
       "                            </td>\n",
       "                        </tr>\n",
       "                    </table>\n",
       "                </div>\n",
       "            </div>\n",
       "        \n",
       "            <details style=\"margin-left: 48px;\">\n",
       "            <summary style=\"margin-bottom: 20px;\"><h3 style=\"display: inline;\">Workers</h3></summary>\n",
       "            \n",
       "            <div style=\"margin-bottom: 20px;\">\n",
       "                <div style=\"width: 24px;\n",
       "                            height: 24px;\n",
       "                            background-color: #DBF5FF;\n",
       "                            border: 3px solid #4CC9FF;\n",
       "                            border-radius: 5px;\n",
       "                            position: absolute;\"> </div>\n",
       "                <div style=\"margin-left: 48px;\">\n",
       "                <details>\n",
       "                    <summary>\n",
       "                        <h4 style=\"margin-bottom: 0px; display: inline;\">Worker: 0</h4>\n",
       "                    </summary>\n",
       "                    <table style=\"width: 100%; text-align: left;\">\n",
       "                        <tr>\n",
       "                            <td style=\"text-align: left;\"><strong>Comm: </strong> tcp://127.0.0.1:50573</td>\n",
       "                            <td style=\"text-align: left;\"><strong>Total threads: </strong> 2</td>\n",
       "                        </tr>\n",
       "                        <tr>\n",
       "                            <td style=\"text-align: left;\">\n",
       "                                <strong>Dashboard: </strong>\n",
       "                                <a href=\"http://127.0.0.1:50574/status\">http://127.0.0.1:50574/status</a>\n",
       "                            </td>\n",
       "                            <td style=\"text-align: left;\">\n",
       "                                <strong>Memory: </strong>\n",
       "                                3.97 GiB\n",
       "                            </td>\n",
       "                        </tr>\n",
       "                        <tr>\n",
       "                            <td style=\"text-align: left;\"><strong>Nanny: </strong> tcp://127.0.0.1:50547</td>\n",
       "                            <td style=\"text-align: left;\"></td>\n",
       "                        </tr>\n",
       "                        <tr>\n",
       "                            <td colspan=\"2\" style=\"text-align: left;\">\n",
       "                                <strong>Local directory: </strong>\n",
       "                                C:\\msys64\\home\\user1\\jupyter_notebooks\\mysejahtera_hotspot\\dask-worker-space\\worker-hjvqxnt9\n",
       "                            </td>\n",
       "                        </tr>\n",
       "                        \n",
       "                        \n",
       "                    </table>\n",
       "                </details>\n",
       "                </div>\n",
       "            </div>\n",
       "            \n",
       "            <div style=\"margin-bottom: 20px;\">\n",
       "                <div style=\"width: 24px;\n",
       "                            height: 24px;\n",
       "                            background-color: #DBF5FF;\n",
       "                            border: 3px solid #4CC9FF;\n",
       "                            border-radius: 5px;\n",
       "                            position: absolute;\"> </div>\n",
       "                <div style=\"margin-left: 48px;\">\n",
       "                <details>\n",
       "                    <summary>\n",
       "                        <h4 style=\"margin-bottom: 0px; display: inline;\">Worker: 1</h4>\n",
       "                    </summary>\n",
       "                    <table style=\"width: 100%; text-align: left;\">\n",
       "                        <tr>\n",
       "                            <td style=\"text-align: left;\"><strong>Comm: </strong> tcp://127.0.0.1:50567</td>\n",
       "                            <td style=\"text-align: left;\"><strong>Total threads: </strong> 2</td>\n",
       "                        </tr>\n",
       "                        <tr>\n",
       "                            <td style=\"text-align: left;\">\n",
       "                                <strong>Dashboard: </strong>\n",
       "                                <a href=\"http://127.0.0.1:50569/status\">http://127.0.0.1:50569/status</a>\n",
       "                            </td>\n",
       "                            <td style=\"text-align: left;\">\n",
       "                                <strong>Memory: </strong>\n",
       "                                3.97 GiB\n",
       "                            </td>\n",
       "                        </tr>\n",
       "                        <tr>\n",
       "                            <td style=\"text-align: left;\"><strong>Nanny: </strong> tcp://127.0.0.1:50548</td>\n",
       "                            <td style=\"text-align: left;\"></td>\n",
       "                        </tr>\n",
       "                        <tr>\n",
       "                            <td colspan=\"2\" style=\"text-align: left;\">\n",
       "                                <strong>Local directory: </strong>\n",
       "                                C:\\msys64\\home\\user1\\jupyter_notebooks\\mysejahtera_hotspot\\dask-worker-space\\worker-_pcztxvw\n",
       "                            </td>\n",
       "                        </tr>\n",
       "                        \n",
       "                        \n",
       "                    </table>\n",
       "                </details>\n",
       "                </div>\n",
       "            </div>\n",
       "            \n",
       "            <div style=\"margin-bottom: 20px;\">\n",
       "                <div style=\"width: 24px;\n",
       "                            height: 24px;\n",
       "                            background-color: #DBF5FF;\n",
       "                            border: 3px solid #4CC9FF;\n",
       "                            border-radius: 5px;\n",
       "                            position: absolute;\"> </div>\n",
       "                <div style=\"margin-left: 48px;\">\n",
       "                <details>\n",
       "                    <summary>\n",
       "                        <h4 style=\"margin-bottom: 0px; display: inline;\">Worker: 2</h4>\n",
       "                    </summary>\n",
       "                    <table style=\"width: 100%; text-align: left;\">\n",
       "                        <tr>\n",
       "                            <td style=\"text-align: left;\"><strong>Comm: </strong> tcp://127.0.0.1:50576</td>\n",
       "                            <td style=\"text-align: left;\"><strong>Total threads: </strong> 2</td>\n",
       "                        </tr>\n",
       "                        <tr>\n",
       "                            <td style=\"text-align: left;\">\n",
       "                                <strong>Dashboard: </strong>\n",
       "                                <a href=\"http://127.0.0.1:50577/status\">http://127.0.0.1:50577/status</a>\n",
       "                            </td>\n",
       "                            <td style=\"text-align: left;\">\n",
       "                                <strong>Memory: </strong>\n",
       "                                3.97 GiB\n",
       "                            </td>\n",
       "                        </tr>\n",
       "                        <tr>\n",
       "                            <td style=\"text-align: left;\"><strong>Nanny: </strong> tcp://127.0.0.1:50550</td>\n",
       "                            <td style=\"text-align: left;\"></td>\n",
       "                        </tr>\n",
       "                        <tr>\n",
       "                            <td colspan=\"2\" style=\"text-align: left;\">\n",
       "                                <strong>Local directory: </strong>\n",
       "                                C:\\msys64\\home\\user1\\jupyter_notebooks\\mysejahtera_hotspot\\dask-worker-space\\worker-kqajca47\n",
       "                            </td>\n",
       "                        </tr>\n",
       "                        \n",
       "                        \n",
       "                    </table>\n",
       "                </details>\n",
       "                </div>\n",
       "            </div>\n",
       "            \n",
       "            <div style=\"margin-bottom: 20px;\">\n",
       "                <div style=\"width: 24px;\n",
       "                            height: 24px;\n",
       "                            background-color: #DBF5FF;\n",
       "                            border: 3px solid #4CC9FF;\n",
       "                            border-radius: 5px;\n",
       "                            position: absolute;\"> </div>\n",
       "                <div style=\"margin-left: 48px;\">\n",
       "                <details>\n",
       "                    <summary>\n",
       "                        <h4 style=\"margin-bottom: 0px; display: inline;\">Worker: 3</h4>\n",
       "                    </summary>\n",
       "                    <table style=\"width: 100%; text-align: left;\">\n",
       "                        <tr>\n",
       "                            <td style=\"text-align: left;\"><strong>Comm: </strong> tcp://127.0.0.1:50568</td>\n",
       "                            <td style=\"text-align: left;\"><strong>Total threads: </strong> 2</td>\n",
       "                        </tr>\n",
       "                        <tr>\n",
       "                            <td style=\"text-align: left;\">\n",
       "                                <strong>Dashboard: </strong>\n",
       "                                <a href=\"http://127.0.0.1:50570/status\">http://127.0.0.1:50570/status</a>\n",
       "                            </td>\n",
       "                            <td style=\"text-align: left;\">\n",
       "                                <strong>Memory: </strong>\n",
       "                                3.97 GiB\n",
       "                            </td>\n",
       "                        </tr>\n",
       "                        <tr>\n",
       "                            <td style=\"text-align: left;\"><strong>Nanny: </strong> tcp://127.0.0.1:50549</td>\n",
       "                            <td style=\"text-align: left;\"></td>\n",
       "                        </tr>\n",
       "                        <tr>\n",
       "                            <td colspan=\"2\" style=\"text-align: left;\">\n",
       "                                <strong>Local directory: </strong>\n",
       "                                C:\\msys64\\home\\user1\\jupyter_notebooks\\mysejahtera_hotspot\\dask-worker-space\\worker-62j_qt6v\n",
       "                            </td>\n",
       "                        </tr>\n",
       "                        \n",
       "                        \n",
       "                    </table>\n",
       "                </details>\n",
       "                </div>\n",
       "            </div>\n",
       "            \n",
       "            </details>\n",
       "        </div>\n",
       "        \n",
       "                    </details>\n",
       "                </div>\n",
       "            </div>\n",
       "        \n",
       "                </details>\n",
       "                \n",
       "                </div>\n",
       "            </div>\n",
       "        "
      ],
      "text/plain": [
       "<Client: 'tcp://127.0.0.1:50545' processes=4 threads=8, memory=15.86 GiB>"
      ]
     },
     "execution_count": 5,
     "metadata": {},
     "output_type": "execute_result"
    }
   ],
   "source": [
    "from dask.distributed import Client, progress\n",
    "client = Client()\n",
    "client"
   ]
  },
  {
   "cell_type": "code",
   "execution_count": 4,
   "metadata": {},
   "outputs": [],
   "source": [
    "cookies = {}\n",
    "\n",
    "headers = {\n",
    "    'Host': 'mysejahtera.malaysia.gov.my',\n",
    "    'Accept': 'application/json',\n",
    "    'Connection': 'keep-alive',\n",
    "    'Content-Length': '77',\n",
    "    'Authorization': 'Basic <insert token>',\n",
    "    'Content-Type': 'application/json',\n",
    "    'Accept-Language': 'en-MY;q=1, ms-MY;q=0.9',\n",
    "    'User-Agent': 'MySejahtera/1.0.36 (iPhone; iOS 14.76; Scale/2.00)',\n",
    "}\n",
    "\n",
    "params = (\n",
    "    ('type', 'search'),\n",
    ")\n",
    "\n",
    "def get_case(lat, long):\n",
    "    data = [{'lat': lat, 'lng': long}]\n",
    "    data = json.dumps(data)\n",
    "    while True:\n",
    "        try:\n",
    "            response = requests.post(\n",
    "                'https://mysejahtera.malaysia.gov.my/register/api/nearby/hotspots', \n",
    "                headers=headers, \n",
    "                params=params, \n",
    "                cookies=cookies, \n",
    "                data=data,\n",
    "                timeout = 1)\n",
    "            break\n",
    "        except:\n",
    "            pass\n",
    "    r = response.json()\n",
    "    try:\n",
    "        return int(re.findall('\\d+ kes', r['messages']['ms_MY'])[0].replace(' kes', ''))\n",
    "    except:\n",
    "        return 0"
   ]
  },
  {
   "cell_type": "code",
   "execution_count": 6,
   "metadata": {},
   "outputs": [
    {
     "name": "stdout",
     "output_type": "stream",
     "text": [
      "Collected 26727 points\n"
     ]
    }
   ],
   "source": [
    "def get_cases(df):\n",
    "    results = []\n",
    "    for i in range(df.shape[0]):\n",
    "        try:\n",
    "            lat = df.iloc[i, 1]\n",
    "            long = df.iloc[i, 0]\n",
    "            results.append((lat, long, get_case(lat, long)))\n",
    "        except Exception as e:\n",
    "            print(e)\n",
    "    return results\n",
    "\n",
    "#for f in files:\n",
    "if True:\n",
    "    \n",
    "    #filename = f'{f}-points-cases.json'\n",
    "    #if os.path.exists(filename):\n",
    "    #    continue\n",
    "    \n",
    "    client.restart()\n",
    "    \n",
    "    #with open(f) as fopen:\n",
    "    #    inside = json.load(fopen)\n",
    "    inside = [[i, j] for j in latitudes for i in longitudes]\n",
    "    \n",
    "    df = dd.from_pandas(pd.DataFrame(inside), npartitions = 500)\n",
    "    cases = df.map_partitions(get_cases, meta=object)\n",
    "    cases = cases.persist()\n",
    "    \n",
    "    inside_cases = []\n",
    "    for p in cases:\n",
    "        inside_cases.extend(p)\n",
    "\n",
    "    print(\"Collected\", len(inside_cases), \"points\")\n",
    "    \n",
    "    with open(filename, 'w') as fopen:\n",
    "        json.dump(inside_cases, fopen)"
   ]
  },
  {
   "cell_type": "markdown",
   "metadata": {},
   "source": [
    "## Load and examine data"
   ]
  },
  {
   "cell_type": "code",
   "execution_count": 7,
   "metadata": {},
   "outputs": [],
   "source": [
    "import json\n",
    "\n",
    "with open(filename) as fopen:\n",
    "    data = np.array(json.load(fopen))"
   ]
  },
  {
   "cell_type": "code",
   "execution_count": 8,
   "metadata": {},
   "outputs": [
    {
     "data": {
      "text/plain": [
       "1.173333333369808"
      ]
     },
     "execution_count": 8,
     "metadata": {},
     "output_type": "execute_result"
    }
   ],
   "source": [
    "size_ratio = (data[:,1].max()-data[:,1].min())/(data[:,0].max()-data[:,0].min())\n",
    "size_ratio"
   ]
  },
  {
   "cell_type": "code",
   "execution_count": 9,
   "metadata": {},
   "outputs": [
    {
     "data": {
      "text/plain": [
       "(151, 177)"
      ]
     },
     "execution_count": 9,
     "metadata": {},
     "output_type": "execute_result"
    }
   ],
   "source": [
    "y_size = (data[:,0]==data[0,0]).sum()\n",
    "x_size = int(len(data)/y_size)\n",
    "x_size, y_size"
   ]
  },
  {
   "cell_type": "code",
   "execution_count": 10,
   "metadata": {},
   "outputs": [],
   "source": [
    "cases = data[:,2].reshape(x_size, y_size)"
   ]
  },
  {
   "cell_type": "code",
   "execution_count": 12,
   "metadata": {},
   "outputs": [
    {
     "name": "stderr",
     "output_type": "stream",
     "text": [
      "c:\\program files\\python37\\lib\\site-packages\\ipykernel_launcher.py:4: RuntimeWarning: divide by zero encountered in log\n",
      "  after removing the cwd from sys.path.\n"
     ]
    },
    {
     "data": {
      "text/plain": [
       "<matplotlib.image.AxesImage at 0x27de4a17630>"
      ]
     },
     "execution_count": 12,
     "metadata": {},
     "output_type": "execute_result"
    },
    {
     "data": {
      "image/png": "[encoded data removed]",
      "text/plain": [
       "<Figure size 1296x1104.55 with 1 Axes>"
      ]
     },
     "metadata": {
      "needs_background": "light"
     },
     "output_type": "display_data"
    }
   ],
   "source": [
    "import matplotlib.pyplot as plt\n",
    "\n",
    "plt.figure(figsize=(18, 18/size_ratio))\n",
    "plt.imshow(np.log(cases))"
   ]
  },
  {
   "cell_type": "markdown",
   "metadata": {},
   "source": [
    "## Find circles (centers)"
   ]
  },
  {
   "cell_type": "markdown",
   "metadata": {},
   "source": [
    "#### Reduce circles to their outlines"
   ]
  },
  {
   "cell_type": "code",
   "execution_count": 13,
   "metadata": {
    "scrolled": false
   },
   "outputs": [
    {
     "data": {
      "text/plain": [
       "<matplotlib.image.AxesImage at 0x27de470d6d8>"
      ]
     },
     "execution_count": 13,
     "metadata": {},
     "output_type": "execute_result"
    },
    {
     "data": {
      "image/png": "[encoded data removed]",
      "text/plain": [
       "<Figure size 1296x1296 with 1 Axes>"
      ]
     },
     "metadata": {
      "needs_background": "light"
     },
     "output_type": "display_data"
    }
   ],
   "source": [
    "outlines = np.full(cases.shape, 243)\n",
    "for i in range(1, cases.shape[0]-1):\n",
    "    for j in range(1, cases.shape[1]-1):\n",
    "        # For higher resolution change \n",
    "        neighbors = [cases[x, y] for x in range(i-1, i+1) for y in range(j-1, j+1)]        \n",
    "        #neighbors = [cases[x, y] for x in range(i-1, i+2) for y in range(j-1, j+2)]\n",
    "        if len(np.unique(neighbors)) != 1:\n",
    "            outlines[i, j] = 0\n",
    "\n",
    "plt.figure(figsize=(18, 18))\n",
    "plt.imshow(outlines)"
   ]
  },
  {
   "cell_type": "markdown",
   "metadata": {},
   "source": [
    "### Template Matching"
   ]
  },
  {
   "cell_type": "markdown",
   "metadata": {},
   "source": [
    "#### Generate template circle of 2km diameter"
   ]
  },
  {
   "cell_type": "code",
   "execution_count": 14,
   "metadata": {},
   "outputs": [],
   "source": [
    "template_circle = np.zeros((circle_diameter+1, circle_diameter+1))\n",
    "center = int(circle_diameter/2)\n",
    "\n",
    "theta = np.linspace(0, 2*np.pi, 300)\n",
    "a = np.round(center*np.sin(theta)).astype(int)\n",
    "b = np.round(center*np.cos(theta)).astype(int)\n",
    "template_circle[center+a, center+b] = 1"
   ]
  },
  {
   "cell_type": "markdown",
   "metadata": {},
   "source": [
    "#### Check if the size of the template circle is correct"
   ]
  },
  {
   "cell_type": "code",
   "execution_count": 15,
   "metadata": {},
   "outputs": [
    {
     "data": {
      "text/plain": [
       "<matplotlib.image.AxesImage at 0x27de478d320>"
      ]
     },
     "execution_count": 15,
     "metadata": {},
     "output_type": "execute_result"
    },
    {
     "data": {
      "image/png": "[encoded data removed]",
      "text/plain": [
       "<Figure size 1296x1296 with 1 Axes>"
      ]
     },
     "metadata": {
      "needs_background": "light"
     },
     "output_type": "display_data"
    }
   ],
   "source": [
    "_outlines = outlines.copy()\n",
    "XY = np.array([(x, y) for (x, y) in zip(center+a+34, center+b+52)\n",
    "                       if x >= 0 and y >= 0 and x < outlines.shape[0] and y < outlines.shape[1]])\n",
    "_outlines[XY[:,0], XY[:,1]] = 100\n",
    "\n",
    "plt.figure(figsize=(18, 18))\n",
    "plt.imshow(_outlines)"
   ]
  },
  {
   "cell_type": "markdown",
   "metadata": {},
   "source": [
    "#### Gotta (template-)match them all"
   ]
  },
  {
   "cell_type": "code",
   "execution_count": 16,
   "metadata": {
    "scrolled": false
   },
   "outputs": [],
   "source": [
    "centers = []\n",
    "\n",
    "min_matches = 10\n",
    "\n",
    "# Consider every position (offsetx, offsety) for the center of the circle\n",
    "#for offsetx in [-21]:\n",
    "#    for offsety in [34]:\n",
    "for offsetx in range(-center+min_matches, outlines.shape[0]+center-min_matches):\n",
    "    for offsety in range(-center+min_matches, outlines.shape[1]+center-min_matches):\n",
    "        # Get all the coordinates of the circle. Remove a coordinate if any of its element is negative\n",
    "        XY = np.array([(x, y) for (x, y) in zip(a+offsetx, b+offsety)\n",
    "                       if x >= 0 and y >= 0 and x < outlines.shape[0] and y < outlines.shape[1]])\n",
    "        if len(XY) == 0:\n",
    "            continue\n",
    "        nonzeros = (outlines[XY[:,0], XY[:,1]] > 0)\n",
    "        zeros = (outlines[XY[:,0], XY[:,1]] == 0)\n",
    "        if zeros.sum() > 3*nonzeros.sum():\n",
    "            centers.append((offsetx, offsety))"
   ]
  },
  {
   "cell_type": "markdown",
   "metadata": {},
   "source": [
    "#### Show the circles (centers) discovered"
   ]
  },
  {
   "cell_type": "code",
   "execution_count": 17,
   "metadata": {
    "scrolled": false
   },
   "outputs": [
    {
     "data": {
      "text/plain": [
       "<matplotlib.image.AxesImage at 0x27de48dc080>"
      ]
     },
     "execution_count": 17,
     "metadata": {},
     "output_type": "execute_result"
    },
    {
     "data": {
      "image/png": "[encoded data removed]",
      "text/plain": [
       "<Figure size 1296x1296 with 1 Axes>"
      ]
     },
     "metadata": {
      "needs_background": "light"
     },
     "output_type": "display_data"
    }
   ],
   "source": [
    "canvas = outlines.copy()\n",
    "for (cx, cy) in centers:\n",
    "    XY = np.array([(x, y) for (x, y) in zip(a+cx, b+cy) \n",
    "                   if x >= 0 and y >= 0 and x < outlines.shape[0] and y < outlines.shape[1]])\n",
    "    canvas[XY[:,0], XY[:,1]] = 150\n",
    "\n",
    "plt.figure(figsize=(18, 18))\n",
    "plt.imshow(canvas)"
   ]
  },
  {
   "cell_type": "markdown",
   "metadata": {},
   "source": [
    "#### Trim off redundant circles"
   ]
  },
  {
   "cell_type": "code",
   "execution_count": 18,
   "metadata": {},
   "outputs": [],
   "source": [
    "canon = []\n",
    "for (cx, cy) in centers:\n",
    "    is_repeat = False\n",
    "    for (_cx, _cy) in canon:\n",
    "        if abs(cx - _cx) < 3 and abs(cy - _cy) < 3:\n",
    "            is_repeat = True\n",
    "            break\n",
    "    if not is_repeat:\n",
    "        canon.append((cx, cy))\n",
    "canon = np.array(canon)"
   ]
  },
  {
   "cell_type": "markdown",
   "metadata": {},
   "source": [
    "#### Show the remaining circles"
   ]
  },
  {
   "cell_type": "code",
   "execution_count": 19,
   "metadata": {},
   "outputs": [
    {
     "data": {
      "text/plain": [
       "<matplotlib.image.AxesImage at 0x27de494f9b0>"
      ]
     },
     "execution_count": 19,
     "metadata": {},
     "output_type": "execute_result"
    },
    {
     "data": {
      "image/png": "[encoded data removed]",
      "text/plain": [
       "<Figure size 1296x1296 with 1 Axes>"
      ]
     },
     "metadata": {
      "needs_background": "light"
     },
     "output_type": "display_data"
    }
   ],
   "source": [
    "canvas = outlines.copy()\n",
    "for (cx, cy) in canon:\n",
    "#for (cx, cy) in [(109,84)]:\n",
    "    XY = np.array([(x, y) for (x, y) in zip(a+cx, b+cy) \n",
    "                   if x >= 0 and y >= 0 and x < outlines.shape[0] and y < outlines.shape[1]])\n",
    "    canvas[XY[:,0], XY[:,1]] = 150\n",
    "    #canvas[0,67] = 203\n",
    "\n",
    "plt.figure(figsize=(18, 18))\n",
    "plt.imshow(canvas)"
   ]
  },
  {
   "cell_type": "markdown",
   "metadata": {},
   "source": [
    "## Form equations"
   ]
  },
  {
   "cell_type": "markdown",
   "metadata": {},
   "source": [
    "#### Create a completely filled circle (make sure that every pixel is filled!!)"
   ]
  },
  {
   "cell_type": "code",
   "execution_count": 20,
   "metadata": {},
   "outputs": [
    {
     "data": {
      "text/plain": [
       "<matplotlib.image.AxesImage at 0x27de49936a0>"
      ]
     },
     "execution_count": 20,
     "metadata": {},
     "output_type": "execute_result"
    },
    {
     "data": {
      "image/png": "[encoded data removed]",
      "text/plain": [
       "<Figure size 504x504 with 1 Axes>"
      ]
     },
     "metadata": {
      "needs_background": "light"
     },
     "output_type": "display_data"
    }
   ],
   "source": [
    "template_circle = np.zeros((circle_diameter+1, circle_diameter+1))\n",
    "center = int(circle_diameter/2)\n",
    "\n",
    "theta = np.linspace(0, 2*np.pi, 600)\n",
    "a = np.round(center*np.sin(theta)).astype(int)\n",
    "b = np.round(center*np.cos(theta)).astype(int)\n",
    "template_circle[center+a, center+b] = 1\n",
    "\n",
    "circle = template_circle.copy()\n",
    "for y in range(1, circle.shape[1]-1):\n",
    "    inside = np.where(template_circle[:,y]==1)\n",
    "    if len(inside[0]) == 0:\n",
    "        continue\n",
    "    inside = np.array(list(range(inside[0][0], inside[0][-1])))\n",
    "    circle[inside, y] = 1\n",
    "circle_points = np.where(circle==1)\n",
    "\n",
    "plt.figure(figsize=(7, 7))\n",
    "plt.imshow(circle)"
   ]
  },
  {
   "cell_type": "markdown",
   "metadata": {},
   "source": [
    "#### Create a mapping from every point on map to the circles that cover point"
   ]
  },
  {
   "cell_type": "code",
   "execution_count": 21,
   "metadata": {},
   "outputs": [],
   "source": [
    "index2circles = []\n",
    "point2index = dict()\n",
    "\n",
    "# For each circle, add its center to each of the points that the circle covers\n",
    "for (index, (x, y)) in enumerate(canon):\n",
    "    index2circles.append((x, y))\n",
    "    X = (circle_points[0] - center) + x\n",
    "    Y = (circle_points[1] - center) + y\n",
    "    XY = np.array([(_x, _y) for (_x, _y) in zip(X, Y) \n",
    "                   if _x >= 0 and _y >= 0 and _x < outlines.shape[0] and _y < outlines.shape[1]])\n",
    "    for point in XY:\n",
    "        point = tuple(point)\n",
    "        if point in point2index.keys():\n",
    "            point2index[point].append(index)\n",
    "        else:\n",
    "            point2index[point] = [index]"
   ]
  },
  {
   "cell_type": "markdown",
   "metadata": {},
   "source": [
    "#### Break up the map into regions. Each region should yield an equation"
   ]
  },
  {
   "cell_type": "code",
   "execution_count": 22,
   "metadata": {},
   "outputs": [],
   "source": [
    "regions = outlines.copy()\n",
    "for (cx, cy) in canon:\n",
    "    XY = np.array([(x, y) for (x, y) in zip(a+cx, b+cy) \n",
    "                   if x >= 0 and y >= 0 and x < outlines.shape[0] and y < outlines.shape[1]])\n",
    "    regions[XY[:,0], XY[:,1]] = 0\n",
    "\n",
    "current_region_index = 300 # some number larger than 243\n",
    "for (i, j) in [(i, j) for i in range(regions.shape[0]) for j in range(regions.shape[1])]:\n",
    "    if regions[i,j] != 0:\n",
    "        # Give it the value of its neighbors\n",
    "        neighbors = np.array([regions[x, y] for x in range(i-1, i+1) for y in range(j-1, j+1)\n",
    "                              if x >= 0 and y >= 0 and x < regions.shape[0] and y < regions.shape[1]\n",
    "                              if regions[x, y] != 0 and regions[x, y] != 243])\n",
    "        unique_vals = np.unique(neighbors)\n",
    "        if len(unique_vals) == 1:\n",
    "            regions[i, j] = unique_vals[0]\n",
    "        elif len(unique_vals) > 1:\n",
    "            # set all vals to the smallest value\n",
    "            regions[i, j] = unique_vals.min()\n",
    "            for _j in range(j):\n",
    "                if regions[i,_j] in unique_vals:\n",
    "                    regions[i,_j] = regions[i, j]\n",
    "        else: # nothing\n",
    "            current_region_index += 1\n",
    "            regions[i, j] = current_region_index"
   ]
  },
  {
   "cell_type": "markdown",
   "metadata": {},
   "source": [
    "#### Visual inspection"
   ]
  },
  {
   "cell_type": "code",
   "execution_count": 23,
   "metadata": {},
   "outputs": [
    {
     "data": {
      "text/plain": [
       "<matplotlib.image.AxesImage at 0x27de89474a8>"
      ]
     },
     "execution_count": 23,
     "metadata": {},
     "output_type": "execute_result"
    },
    {
     "data": {
      "image/png": "[encoded data removed]",
      "text/plain": [
       "<Figure size 1296x1296 with 1 Axes>"
      ]
     },
     "metadata": {
      "needs_background": "light"
     },
     "output_type": "display_data"
    }
   ],
   "source": [
    "import random\n",
    "visual = regions.copy()\n",
    "for i in range(300, current_region_index):\n",
    "    visual[visual==i] = random.randrange(70, 200)*30\n",
    "plt.figure(figsize=(18, 18))\n",
    "plt.imshow(visual)"
   ]
  },
  {
   "cell_type": "markdown",
   "metadata": {},
   "source": [
    "#### Form an equation out of each region"
   ]
  },
  {
   "cell_type": "code",
   "execution_count": 24,
   "metadata": {},
   "outputs": [
    {
     "name": "stdout",
     "output_type": "stream",
     "text": [
      "83 equations found\n",
      "Solving 19 unknowns\n"
     ]
    }
   ],
   "source": [
    "# Use only sufficiently large regions\n",
    "smallest_size = 10\n",
    "valid_regions = [i for i in range(301, current_region_index) if (regions==i).sum() >= smallest_size]\n",
    "\n",
    "_circle_sets = []\n",
    "_cases = []\n",
    "for i in valid_regions:\n",
    "\n",
    "    # Use point in the middle of region as reference\n",
    "    points = np.where(regions==i)\n",
    "    midX = (points[0].max()+points[0].min())/2\n",
    "    midY = (points[1].max()+points[1].min())/2\n",
    "    ref_cases = cases[(int(round(midX)), int(round(midY)))]\n",
    "    if ref_cases == 0: # Regions with no covid cases\n",
    "        continue\n",
    "    ref_circles = point2index[(int(round(midX)), int(round(midY)))]\n",
    "\n",
    "    # Reject region if region has inconsistent cases values\n",
    "    inconsistency_count = 0\n",
    "    for point in zip(points[0], points[1]):\n",
    "        if cases[point[0], point[1]] != ref_cases:\n",
    "            inconsistency_count += 1\n",
    "    if inconsistency_count > 3:\n",
    "        continue\n",
    "    \n",
    "    # Reject region if points in region refers to too many inconsistent circles\n",
    "    inconsistency_count = 0\n",
    "    for point in zip(points[0], points[1]):\n",
    "        if point2index[tuple(point)] != ref_circles:\n",
    "            inconsistency_count += 1\n",
    "    if inconsistency_count > 3:\n",
    "        continue\n",
    "\n",
    "    # Reject region if there are more circles that cover the region than cases\n",
    "    if len(ref_circles) > ref_cases:\n",
    "        continue\n",
    "\n",
    "    _circle_sets.append(ref_circles)\n",
    "    _cases.append(ref_cases)\n",
    "\n",
    "# Remove redundant equations\n",
    "unique_equations = []\n",
    "unique_equations_cases = []\n",
    "for i, circle_set in enumerate(_circle_sets):\n",
    "    if circle_set not in unique_equations:\n",
    "        unique_equations.append(circle_set)\n",
    "        unique_equations_cases.append(_cases[i])    \n",
    "    \n",
    "print(len(unique_equations), \"equations found\")\n",
    "print(\"Solving\", len(canon), \"unknowns\")"
   ]
  },
  {
   "cell_type": "markdown",
   "metadata": {},
   "source": [
    "#### Form the equations"
   ]
  },
  {
   "cell_type": "code",
   "execution_count": 25,
   "metadata": {},
   "outputs": [],
   "source": [
    "# Sort the equations with those with fewer variables first\n",
    "unique_equations_sorted = sorted(enumerate(unique_equations), key=lambda x:len(x[1]))\n",
    "unique_equations_cases_sorted = []\n",
    "for index in [i for i, _ in unique_equations_sorted]:\n",
    "    unique_equations_cases_sorted.append(unique_equations_cases[index])\n",
    "unique_equations = [j for _, j in unique_equations_sorted]\n",
    "unique_equations_cases = unique_equations_cases_sorted\n",
    "\n",
    "# Create equation matrix\n",
    "equations = np.zeros((len(unique_equations), len(index2circles)), dtype=np.int)\n",
    "for row in range(len(unique_equations)):\n",
    "    equations[row, np.array(unique_equations[row])] = 1"
   ]
  },
  {
   "cell_type": "markdown",
   "metadata": {},
   "source": [
    "## Solve equations"
   ]
  },
  {
   "cell_type": "markdown",
   "metadata": {},
   "source": [
    "### Method 1: Solve with inverse"
   ]
  },
  {
   "cell_type": "code",
   "execution_count": 26,
   "metadata": {},
   "outputs": [
    {
     "name": "stdout",
     "output_type": "stream",
     "text": [
      "[  1.   1.   1.   1.   1.   1.   1.   1.   2.   1.   1.   1.   1.   1.\n",
      " 243.   1. 106.   6.   1.]\n"
     ]
    }
   ],
   "source": [
    "# We need one equation for each variable\n",
    "rows = []\n",
    "cols = []\n",
    "for circle in range(len(canon)):\n",
    "    # Find an equation which includes circle\n",
    "    found = False\n",
    "    for row in range(len(unique_equations)):\n",
    "        if row in rows:\n",
    "            continue\n",
    "        if circle in unique_equations[row]:\n",
    "            #print(circle, 'found in', unique_equations[row] )\n",
    "            # Check if equation is redundant\n",
    "            rows.append(row)\n",
    "            cols.append(circle)\n",
    "            found = True\n",
    "            break\n",
    "\n",
    "if np.linalg.matrix_rank(equations[:,cols]) == len(canon):\n",
    "    equation_system = equations[np.ix_(rows, cols)]\n",
    "    equation_system_out = np.array(unique_equations_cases)[rows]\n",
    "    solutions = np.linalg.solve(equation_system, equation_system_out)\n",
    "    print(solutions)\n",
    "else:\n",
    "    print('Unsolvable')"
   ]
  },
  {
   "cell_type": "markdown",
   "metadata": {},
   "source": [
    "### Method 2: Heuristic"
   ]
  },
  {
   "cell_type": "code",
   "execution_count": 27,
   "metadata": {
    "scrolled": false
   },
   "outputs": [
    {
     "name": "stdout",
     "output_type": "stream",
     "text": [
      "Row 1 fits trick 2\n",
      "    Setting (-7, 109) set to 1.0\n",
      "Row 3 fits trick 2\n",
      "    Setting (60, 1) set to 1.0\n",
      "Row 5 fits trick 2\n",
      "    Setting (107, 17) set to 1.0\n",
      "Row 7 fits trick 2\n",
      "    Setting (-33, -5) set to 1.0\n",
      "Row 13 fits trick 2\n",
      "    Setting (82, 136) set to 2.0\n",
      "Row 16 fits trick 2\n",
      "    Setting (89, 106) set to 1.0\n",
      "Row 18 fits trick 2\n",
      "    Setting (125, 133) set to 106.0\n",
      "Row 20 fits trick 2\n",
      "    Setting (126, 114) set to 6.0\n",
      "Row 22 fits trick 2\n",
      "    Setting (110, 85) set to 243.0\n",
      "Resume with tolerance = 0\n",
      "Raise tolerance to 1\n",
      "Raise tolerance to 2\n",
      "Done\n"
     ]
    },
    {
     "data": {
      "text/plain": [
       "array([  1.,   1.,   1.,   1.,   1.,   1.,   1.,   1.,   2.,   1.,   1.,\n",
       "         1.,   1.,   1., 243.,   1., 106.,   6.,   1.])"
      ]
     },
     "execution_count": 27,
     "metadata": {},
     "output_type": "execute_result"
    }
   ],
   "source": [
    "_equations = equations.copy()\n",
    "_unique_equations_cases = unique_equations_cases.copy()\n",
    "solutions = np.zeros((equations.shape[1]))\n",
    "\n",
    "used_rows = []\n",
    "tolerance = 0\n",
    "while True:\n",
    "    modified = False\n",
    "    row = 0\n",
    "    while row < _equations.shape[0]:\n",
    "        \n",
    "        if row in used_rows or _unique_equations_cases[row] == 0:\n",
    "            row += 1\n",
    "            continue\n",
    "            \n",
    "        # Trick 1\n",
    "        # If number of variables ~= the number of cases, assign 1 case to every variable\n",
    "        if _equations.shape[0] > row \\\n",
    "            and _equations[row,:].sum() <= _unique_equations_cases[row] \\\n",
    "            and _equations[row,:].sum() + tolerance >= _unique_equations_cases[row]:\n",
    "            \n",
    "            circles = np.where(_equations[row,:]==1)[0]\n",
    "            #print('Row', row, 'fits trick 1:', circles, _unique_equations_cases[row])\n",
    "            \n",
    "            #print('    Setting', np.array(index2circles)[circles], 'to 1')\n",
    "            solutions[circles] = 1\n",
    "            \n",
    "            # Remove circles and the cases they contribute from all other rows/equations\n",
    "            #print(\"   Remove circle from other equations\")\n",
    "            for i in range(_equations.shape[0]):\n",
    "                if i == row:\n",
    "                    continue\n",
    "                num_overlaps = (_equations[i, :] & _equations[row,:]).sum()\n",
    "                if num_overlaps == 0:\n",
    "                    continue\n",
    "                #print('    row ', i, _equations[i, :], _unique_equations_cases[i])\n",
    "                _equations[i, circles] = 0\n",
    "                _unique_equations_cases[i] -= num_overlaps\n",
    "                #print('    row ', i, _equations[i, :], _unique_equations_cases[i])\n",
    "                if _unique_equations_cases[i] <= 0:\n",
    "                    #print(\"     !!!restore negative value:\", _unique_equations_cases[i], \"to 0\")\n",
    "                    _unique_equations_cases[i] = 0\n",
    "                \n",
    "            modified = True\n",
    "            used_rows.append(row)\n",
    "            row += 1\n",
    "\n",
    "        # Trick 2: \n",
    "        # If only one variable left in a row/equation, give it all the cases\n",
    "        if _equations.shape[0] > row and _equations[row,:].sum() == 1:\n",
    "            \n",
    "            print('Row', row, 'fits trick 2')\n",
    "            \n",
    "            # Give all cases to that circle\n",
    "            circle = np.where(_equations[row,:]==1)[0]\n",
    "            print('    Setting', index2circles[circle[0]], 'set to', _unique_equations_cases[row])\n",
    "            solutions[circle] = _unique_equations_cases[row]\n",
    "\n",
    "            # Remove circle and the cases that it contribute from all other rows/equations\n",
    "            #print(\"   Remove circle from other equations\")\n",
    "            for i in range(_equations.shape[0]):\n",
    "                if i == row:\n",
    "                    continue\n",
    "                if _equations[i, circle] == 1:\n",
    "                    #print('    row ', i, _equations[i, :], _unique_equations_cases[i])\n",
    "                    _equations[i, circle] = 0\n",
    "                    _unique_equations_cases[i] -= _unique_equations_cases[row]\n",
    "                    #print('    row ', i, _equations[i, :], _unique_equations_cases[i])\n",
    "                    if _unique_equations_cases[i] <= 0:\n",
    "                        #print(\"     !!!restore negative value:\", _unique_equations_cases[i], \"to 0\")\n",
    "                        _unique_equations_cases[i] = 0\n",
    "\n",
    "            modified = True\n",
    "            used_rows.append(row)\n",
    "            \n",
    "        row += 1\n",
    "            \n",
    "    if modified == False:\n",
    "        tolerance += 1\n",
    "        if tolerance > 2:\n",
    "            print('Done')\n",
    "            break\n",
    "        print('Raise tolerance to', tolerance)\n",
    "    else:\n",
    "        print('Resume with tolerance =', tolerance)\n",
    "        \n",
    "solutions"
   ]
  },
  {
   "cell_type": "markdown",
   "metadata": {},
   "source": [
    "### Method 3 (obsolete): Same as method 2 but uses every point instead of every region"
   ]
  },
  {
   "cell_type": "code",
   "execution_count": 28,
   "metadata": {},
   "outputs": [
    {
     "data": {
      "text/plain": [
       "{(-35, 6): 1.0,\n",
       " (-9, 147): 1.0,\n",
       " (-33, -5): 1.0,\n",
       " (-7, 109): 1.0,\n",
       " (-28, 103): 1.0,\n",
       " (60, 1): 1.0,\n",
       " (75, 73): 1.0,\n",
       " (79, 97): 1.0,\n",
       " (82, 136): 2.0,\n",
       " (83, -10): 1.0,\n",
       " (87, 87): 1.0,\n",
       " (89, 106): 1.0,\n",
       " (99, 92): 1.0,\n",
       " (107, 17): 1.0,\n",
       " (110, 85): 243.0,\n",
       " (120, 86): 1.0,\n",
       " (125, 133): 106.0,\n",
       " (126, 114): 6.0,\n",
       " (161, 93): 1.0}"
      ]
     },
     "execution_count": 28,
     "metadata": {},
     "output_type": "execute_result"
    }
   ],
   "source": [
    "point2circles = dict()\n",
    "\n",
    "# For each circle, add its center to each of the points that the circle covers\n",
    "for (x, y) in canon:\n",
    "    X = (circle_points[0] - center) + x\n",
    "    Y = (circle_points[1] - center) + y\n",
    "    XY = np.array([(_x, _y) for (_x, _y) in zip(X, Y) \n",
    "                   if _x >= 0 and _y >= 0 and _x < outlines.shape[0] and _y < outlines.shape[1]])\n",
    "    for point in XY:\n",
    "        point = tuple(point)\n",
    "        if point in point2circles.keys():\n",
    "            point2circles[point].append((x,y))\n",
    "        else:\n",
    "            point2circles[point] = [(x,y)]\n",
    "\n",
    "circle2cases = dict()\n",
    "\n",
    "def is_a_good_point(x, y):\n",
    "    if cases[x, y] == 0:\n",
    "        return False\n",
    "    neighbors = [cases[i, j] for i in range(x-2, x+3) for j in range(y-2, y+3)\n",
    "                 if i >= 0 and j >= 0 and i < cases.shape[0] and j < cases.shape[1]]\n",
    "    return len(np.unique(neighbors)) == 1\n",
    "\n",
    "for _ in range(3):\n",
    "    for (x, y) in [(x, y) for x in range(cases.shape[0]) for y in range(cases.shape[1])]:\n",
    "        if (x, y) not in point2circles.keys(): # No circle covers point\n",
    "            continue\n",
    "        if not is_a_good_point(x, y):\n",
    "            continue\n",
    "        circles = point2circles[(x, y)]\n",
    "        if len(circles) == 1:\n",
    "            if circles[0] not in circle2cases.keys():\n",
    "                #print(\"resolved\", circles[0], cases[x, y])\n",
    "                circle2cases[circles[0]] = cases[x, y]\n",
    "        else:\n",
    "            # If there is only one circle that has no circle2cases value, then that circle can be solved\n",
    "            num_resolved_circles = 0\n",
    "            resolved_circles_cases = 0\n",
    "            for circle in circles:\n",
    "                if circle in circle2cases.keys():\n",
    "                    num_resolved_circles += 1\n",
    "                    resolved_circles_cases += circle2cases[circle]\n",
    "                else:\n",
    "                    unresolved_circle = circle\n",
    "            if num_resolved_circles == len(circles)-1 and cases[x, y] - resolved_circles_cases > 0.5:\n",
    "                #print(circles)\n",
    "                #print(\"   resolved circle {}, {} - {} = {}\".format(\n",
    "                #    unresolved_circle, cases[x, y], num_resolved_circles, cases[x, y] - resolved_circles_cases))\n",
    "                circle2cases[unresolved_circle] = cases[x, y] - resolved_circles_cases\n",
    "\n",
    "circle2cases"
   ]
  },
  {
   "cell_type": "markdown",
   "metadata": {},
   "source": [
    "#### Compare with Method 1 or Method 2 results"
   ]
  },
  {
   "cell_type": "code",
   "execution_count": 29,
   "metadata": {},
   "outputs": [
    {
     "name": "stdout",
     "output_type": "stream",
     "text": [
      "(-35,6) 1.0\n",
      "(-33,-5) 1.0\n",
      "(-28,103) 1.0\n",
      "(-9,147) 1.0\n",
      "(-7,109) 1.0\n",
      "(60,1) 1.0\n",
      "(75,73) 1.0\n",
      "(79,97) 1.0\n",
      "(82,136) 2.0\n",
      "(83,-10) 1.0\n",
      "(87,87) 1.0\n",
      "(89,106) 1.0\n",
      "(99,92) 1.0\n",
      "(107,17) 1.0\n",
      "(110,85) 243.0\n",
      "(120,86) 1.0\n",
      "(125,133) 106.0\n",
      "(126,114) 6.0\n",
      "(161,93) 1.0\n"
     ]
    }
   ],
   "source": [
    "for ((x, y), cases) in [((x, y), cases) for ((x, y), cases) in zip(index2circles, solutions)]:\n",
    "    print(\"({},{}) {}\".format(x, y, cases))"
   ]
  },
  {
   "cell_type": "markdown",
   "metadata": {},
   "source": [
    "## Output solution (for Method 1 or 2)"
   ]
  },
  {
   "cell_type": "code",
   "execution_count": 30,
   "metadata": {},
   "outputs": [],
   "source": [
    "circle2cases = dict(zip(index2circles, solutions))\n",
    "\n",
    "X = np.array([(x, y) for (x, y) in index2circles if x >= 0 and y >= 0 \n",
    "              and x < outlines.shape[0] and y < outlines.shape[1]])\n",
    "lats = data[:,0].reshape(x_size, y_size)\n",
    "lons = data[:,1].reshape(x_size, y_size)\n",
    "case = []\n",
    "for x in X:\n",
    "    if tuple(x) in circle2cases.keys():\n",
    "        if circle2cases[tuple(x)] == 0:\n",
    "            case.append(-1)\n",
    "        else:\n",
    "            case.append(circle2cases[tuple(x)])\n",
    "    else:\n",
    "        case.append(-1)\n",
    "locations = np.array(list(zip(lats[X[:,0], X[:,1]], lons[X[:,0], X[:,1]], case)))\n",
    "with open(locationfile, 'w') as ofile:\n",
    "    json.dump(locations.tolist(), ofile)\n",
    "with open(locationfilebak, 'w') as ofile:\n",
    "    json.dump(locations.tolist(), ofile)"
   ]
  },
  {
   "cell_type": "code",
   "execution_count": null,
   "metadata": {},
   "outputs": [],
   "source": []
  }
 ],
 "metadata": {
  "kernelspec": {
   "display_name": "Python 3",
   "language": "python",
   "name": "python3"
  },
  "language_info": {
   "codemirror_mode": {
    "name": "ipython",
    "version": 3
   },
   "file_extension": ".py",
   "mimetype": "text/x-python",
   "name": "python",
   "nbconvert_exporter": "python",
   "pygments_lexer": "ipython3",
   "version": "3.7.2"
  },
  "varInspector": {
   "cols": {
    "lenName": 16,
    "lenType": 16,
    "lenVar": 40
   },
   "kernels_config": {
    "python": {
     "delete_cmd_postfix": "",
     "delete_cmd_prefix": "del ",
     "library": "var_list.py",
     "varRefreshCmd": "print(var_dic_list())"
    },
    "r": {
     "delete_cmd_postfix": ") ",
     "delete_cmd_prefix": "rm(",
     "library": "var_list.r",
     "varRefreshCmd": "cat(var_dic_list()) "
    }
   },
   "types_to_exclude": [
    "module",
    "function",
    "builtin_function_or_method",
    "instance",
    "_Feature"
   ],
   "window_display": false
  }
 },
 "nbformat": 4,
 "nbformat_minor": 5
}
